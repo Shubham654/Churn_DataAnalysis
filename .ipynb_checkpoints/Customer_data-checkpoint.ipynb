{
 "cells": [
  {
   "cell_type": "code",
   "execution_count": 1,
   "metadata": {},
   "outputs": [],
   "source": [
    "import numpy as np\n",
    "import pandas as pd"
   ]
  },
  {
   "cell_type": "markdown",
   "metadata": {},
   "source": [
    "# reading the datasets"
   ]
  },
  {
   "cell_type": "code",
   "execution_count": 2,
   "metadata": {},
   "outputs": [
    {
     "data": {
      "text/html": [
       "<div>\n",
       "<style scoped>\n",
       "    .dataframe tbody tr th:only-of-type {\n",
       "        vertical-align: middle;\n",
       "    }\n",
       "\n",
       "    .dataframe tbody tr th {\n",
       "        vertical-align: top;\n",
       "    }\n",
       "\n",
       "    .dataframe thead th {\n",
       "        text-align: right;\n",
       "    }\n",
       "</style>\n",
       "<table border=\"1\" class=\"dataframe\">\n",
       "  <thead>\n",
       "    <tr style=\"text-align: right;\">\n",
       "      <th></th>\n",
       "      <th>CustomerID</th>\n",
       "      <th>City</th>\n",
       "      <th>DateOfRegistration</th>\n",
       "      <th>OnlineCommunication</th>\n",
       "      <th>AutomaticRefill</th>\n",
       "      <th>DoorstepDelivery</th>\n",
       "      <th>PreferredDeliveryDay</th>\n",
       "    </tr>\n",
       "  </thead>\n",
       "  <tbody>\n",
       "    <tr>\n",
       "      <th>0</th>\n",
       "      <td>C16368</td>\n",
       "      <td>CITY2</td>\n",
       "      <td>2012-09-28</td>\n",
       "      <td>0</td>\n",
       "      <td>0</td>\n",
       "      <td>0</td>\n",
       "      <td>Monday</td>\n",
       "    </tr>\n",
       "    <tr>\n",
       "      <th>1</th>\n",
       "      <td>C20345</td>\n",
       "      <td>CITY2</td>\n",
       "      <td>2010-12-19</td>\n",
       "      <td>1</td>\n",
       "      <td>1</td>\n",
       "      <td>1</td>\n",
       "      <td>Friday</td>\n",
       "    </tr>\n",
       "    <tr>\n",
       "      <th>2</th>\n",
       "      <td>C17683</td>\n",
       "      <td>CITY2</td>\n",
       "      <td>2010-10-03</td>\n",
       "      <td>0</td>\n",
       "      <td>0</td>\n",
       "      <td>0</td>\n",
       "      <td>Wednesday</td>\n",
       "    </tr>\n",
       "    <tr>\n",
       "      <th>3</th>\n",
       "      <td>C18647</td>\n",
       "      <td>CITY4</td>\n",
       "      <td>2010-11-27</td>\n",
       "      <td>0</td>\n",
       "      <td>0</td>\n",
       "      <td>0</td>\n",
       "      <td>Monday</td>\n",
       "    </tr>\n",
       "    <tr>\n",
       "      <th>4</th>\n",
       "      <td>C36692</td>\n",
       "      <td>CITY2</td>\n",
       "      <td>2009-12-04</td>\n",
       "      <td>1</td>\n",
       "      <td>1</td>\n",
       "      <td>0</td>\n",
       "      <td>Friday</td>\n",
       "    </tr>\n",
       "  </tbody>\n",
       "</table>\n",
       "</div>"
      ],
      "text/plain": [
       "  CustomerID   City DateOfRegistration  OnlineCommunication  AutomaticRefill  \\\n",
       "0     C16368  CITY2         2012-09-28                    0                0   \n",
       "1     C20345  CITY2         2010-12-19                    1                1   \n",
       "2     C17683  CITY2         2010-10-03                    0                0   \n",
       "3     C18647  CITY4         2010-11-27                    0                0   \n",
       "4     C36692  CITY2         2009-12-04                    1                1   \n",
       "\n",
       "   DoorstepDelivery PreferredDeliveryDay  \n",
       "0                 0               Monday  \n",
       "1                 1               Friday  \n",
       "2                 0            Wednesday  \n",
       "3                 0               Monday  \n",
       "4                 0               Friday  "
      ]
     },
     "execution_count": 2,
     "metadata": {},
     "output_type": "execute_result"
    }
   ],
   "source": [
    "cx_df = pd.read_excel('./TrainData/Customerdata_Train.xlsx')\n",
    "cx_df.head()"
   ]
  },
  {
   "cell_type": "code",
   "execution_count": 3,
   "metadata": {},
   "outputs": [
    {
     "name": "stdout",
     "output_type": "stream",
     "text": [
      "<class 'pandas.core.frame.DataFrame'>\n",
      "RangeIndex: 23820 entries, 0 to 23819\n",
      "Data columns (total 7 columns):\n",
      " #   Column                Non-Null Count  Dtype         \n",
      "---  ------                --------------  -----         \n",
      " 0   CustomerID            23820 non-null  object        \n",
      " 1   City                  23820 non-null  object        \n",
      " 2   DateOfRegistration    23820 non-null  datetime64[ns]\n",
      " 3   OnlineCommunication   23820 non-null  int64         \n",
      " 4   AutomaticRefill       23820 non-null  int64         \n",
      " 5   DoorstepDelivery      23820 non-null  int64         \n",
      " 6   PreferredDeliveryDay  23820 non-null  object        \n",
      "dtypes: datetime64[ns](1), int64(3), object(3)\n",
      "memory usage: 1.3+ MB\n"
     ]
    },
    {
     "data": {
      "text/plain": [
       "(None, (23820, 7))"
      ]
     },
     "execution_count": 3,
     "metadata": {},
     "output_type": "execute_result"
    }
   ],
   "source": [
    "cx_df.info(), cx_df.shape"
   ]
  },
  {
   "cell_type": "code",
   "execution_count": 4,
   "metadata": {},
   "outputs": [
    {
     "data": {
      "text/html": [
       "<div>\n",
       "<style scoped>\n",
       "    .dataframe tbody tr th:only-of-type {\n",
       "        vertical-align: middle;\n",
       "    }\n",
       "\n",
       "    .dataframe tbody tr th {\n",
       "        vertical-align: top;\n",
       "    }\n",
       "\n",
       "    .dataframe thead th {\n",
       "        text-align: right;\n",
       "    }\n",
       "</style>\n",
       "<table border=\"1\" class=\"dataframe\">\n",
       "  <thead>\n",
       "    <tr style=\"text-align: right;\">\n",
       "      <th></th>\n",
       "      <th>CustomerID</th>\n",
       "      <th>DateOfemail</th>\n",
       "      <th>EmailType</th>\n",
       "      <th>timestamp</th>\n",
       "      <th>MailOpened</th>\n",
       "      <th>MailClicked</th>\n",
       "    </tr>\n",
       "  </thead>\n",
       "  <tbody>\n",
       "    <tr>\n",
       "      <th>0</th>\n",
       "      <td>C16368</td>\n",
       "      <td>2012-09-28</td>\n",
       "      <td>WelcomeEmail</td>\n",
       "      <td>15:56:50</td>\n",
       "      <td>yes</td>\n",
       "      <td>NotApplicable</td>\n",
       "    </tr>\n",
       "    <tr>\n",
       "      <th>1</th>\n",
       "      <td>C20345</td>\n",
       "      <td>2010-12-19</td>\n",
       "      <td>WelcomeEmail</td>\n",
       "      <td>15:10:30</td>\n",
       "      <td>yes</td>\n",
       "      <td>NotApplicable</td>\n",
       "    </tr>\n",
       "    <tr>\n",
       "      <th>2</th>\n",
       "      <td>C17683</td>\n",
       "      <td>2010-10-03</td>\n",
       "      <td>WelcomeEmail</td>\n",
       "      <td>17:12:24</td>\n",
       "      <td>yes</td>\n",
       "      <td>NotApplicable</td>\n",
       "    </tr>\n",
       "    <tr>\n",
       "      <th>3</th>\n",
       "      <td>C18647</td>\n",
       "      <td>2010-11-27</td>\n",
       "      <td>WelcomeEmail</td>\n",
       "      <td>16:59:02</td>\n",
       "      <td>yes</td>\n",
       "      <td>NotApplicable</td>\n",
       "    </tr>\n",
       "    <tr>\n",
       "      <th>4</th>\n",
       "      <td>C36692</td>\n",
       "      <td>2009-12-04</td>\n",
       "      <td>WelcomeEmail</td>\n",
       "      <td>17:27:22</td>\n",
       "      <td>yes</td>\n",
       "      <td>NotApplicable</td>\n",
       "    </tr>\n",
       "  </tbody>\n",
       "</table>\n",
       "</div>"
      ],
      "text/plain": [
       "  CustomerID DateOfemail     EmailType timestamp MailOpened    MailClicked\n",
       "0     C16368  2012-09-28  WelcomeEmail  15:56:50        yes  NotApplicable\n",
       "1     C20345  2010-12-19  WelcomeEmail  15:10:30        yes  NotApplicable\n",
       "2     C17683  2010-10-03  WelcomeEmail  17:12:24        yes  NotApplicable\n",
       "3     C18647  2010-11-27  WelcomeEmail  16:59:02        yes  NotApplicable\n",
       "4     C36692  2009-12-04  WelcomeEmail  17:27:22        yes  NotApplicable"
      ]
     },
     "execution_count": 4,
     "metadata": {},
     "output_type": "execute_result"
    }
   ],
   "source": [
    "email_data = pd.read_excel('./TrainData/Emaildata_Train.xlsx')\n",
    "email_data.head()"
   ]
  },
  {
   "cell_type": "code",
   "execution_count": 5,
   "metadata": {},
   "outputs": [
    {
     "name": "stdout",
     "output_type": "stream",
     "text": [
      "<class 'pandas.core.frame.DataFrame'>\n",
      "RangeIndex: 517672 entries, 0 to 517671\n",
      "Data columns (total 6 columns):\n",
      " #   Column       Non-Null Count   Dtype \n",
      "---  ------       --------------   ----- \n",
      " 0   CustomerID   517672 non-null  object\n",
      " 1   DateOfemail  517672 non-null  object\n",
      " 2   EmailType    517672 non-null  object\n",
      " 3   timestamp    517672 non-null  object\n",
      " 4   MailOpened   517672 non-null  object\n",
      " 5   MailClicked  517672 non-null  object\n",
      "dtypes: object(6)\n",
      "memory usage: 23.7+ MB\n"
     ]
    },
    {
     "data": {
      "text/plain": [
       "(None, (517672, 6))"
      ]
     },
     "execution_count": 5,
     "metadata": {},
     "output_type": "execute_result"
    }
   ],
   "source": [
    "email_data.info(), email_data.shape"
   ]
  },
  {
   "cell_type": "code",
   "execution_count": 6,
   "metadata": {},
   "outputs": [
    {
     "data": {
      "text/html": [
       "<div>\n",
       "<style scoped>\n",
       "    .dataframe tbody tr th:only-of-type {\n",
       "        vertical-align: middle;\n",
       "    }\n",
       "\n",
       "    .dataframe tbody tr th {\n",
       "        vertical-align: top;\n",
       "    }\n",
       "\n",
       "    .dataframe thead th {\n",
       "        text-align: right;\n",
       "    }\n",
       "</style>\n",
       "<table border=\"1\" class=\"dataframe\">\n",
       "  <thead>\n",
       "    <tr style=\"text-align: right;\">\n",
       "      <th></th>\n",
       "      <th>CustomerID</th>\n",
       "      <th>RetentionPotential</th>\n",
       "    </tr>\n",
       "  </thead>\n",
       "  <tbody>\n",
       "    <tr>\n",
       "      <th>0</th>\n",
       "      <td>C37869</td>\n",
       "      <td>Low</td>\n",
       "    </tr>\n",
       "    <tr>\n",
       "      <th>1</th>\n",
       "      <td>C33841</td>\n",
       "      <td>Low</td>\n",
       "    </tr>\n",
       "    <tr>\n",
       "      <th>2</th>\n",
       "      <td>C29464</td>\n",
       "      <td>Low</td>\n",
       "    </tr>\n",
       "    <tr>\n",
       "      <th>3</th>\n",
       "      <td>C28158</td>\n",
       "      <td>Low</td>\n",
       "    </tr>\n",
       "    <tr>\n",
       "      <th>4</th>\n",
       "      <td>C22785</td>\n",
       "      <td>High</td>\n",
       "    </tr>\n",
       "  </tbody>\n",
       "</table>\n",
       "</div>"
      ],
      "text/plain": [
       "  CustomerID RetentionPotential\n",
       "0     C37869                Low\n",
       "1     C33841                Low\n",
       "2     C29464                Low\n",
       "3     C28158                Low\n",
       "4     C22785               High"
      ]
     },
     "execution_count": 6,
     "metadata": {},
     "output_type": "execute_result"
    }
   ],
   "source": [
    "train_df = pd.read_excel('./TrainData/Train.xlsx')\n",
    "train_df.head()"
   ]
  },
  {
   "cell_type": "code",
   "execution_count": 7,
   "metadata": {},
   "outputs": [
    {
     "name": "stdout",
     "output_type": "stream",
     "text": [
      "<class 'pandas.core.frame.DataFrame'>\n",
      "RangeIndex: 23820 entries, 0 to 23819\n",
      "Data columns (total 2 columns):\n",
      " #   Column              Non-Null Count  Dtype \n",
      "---  ------              --------------  ----- \n",
      " 0   CustomerID          23820 non-null  object\n",
      " 1   RetentionPotential  23820 non-null  object\n",
      "dtypes: object(2)\n",
      "memory usage: 372.3+ KB\n"
     ]
    },
    {
     "data": {
      "text/plain": [
       "(None, (23820, 2))"
      ]
     },
     "execution_count": 7,
     "metadata": {},
     "output_type": "execute_result"
    }
   ],
   "source": [
    "train_df.info(), train_df.shape"
   ]
  },
  {
   "cell_type": "code",
   "execution_count": null,
   "metadata": {},
   "outputs": [],
   "source": []
  },
  {
   "cell_type": "code",
   "execution_count": 39,
   "metadata": {},
   "outputs": [
    {
     "data": {
      "text/html": [
       "<div>\n",
       "<style scoped>\n",
       "    .dataframe tbody tr th:only-of-type {\n",
       "        vertical-align: middle;\n",
       "    }\n",
       "\n",
       "    .dataframe tbody tr th {\n",
       "        vertical-align: top;\n",
       "    }\n",
       "\n",
       "    .dataframe thead th {\n",
       "        text-align: right;\n",
       "    }\n",
       "</style>\n",
       "<table border=\"1\" class=\"dataframe\">\n",
       "  <thead>\n",
       "    <tr style=\"text-align: right;\">\n",
       "      <th></th>\n",
       "      <th>CustomerID</th>\n",
       "      <th>DateOfOrder</th>\n",
       "      <th>timestamp</th>\n",
       "      <th>OrderQuantity</th>\n",
       "    </tr>\n",
       "  </thead>\n",
       "  <tbody>\n",
       "    <tr>\n",
       "      <th>0</th>\n",
       "      <td>C16368</td>\n",
       "      <td>2013-08-11</td>\n",
       "      <td>15:17:52</td>\n",
       "      <td>15</td>\n",
       "    </tr>\n",
       "    <tr>\n",
       "      <th>1</th>\n",
       "      <td>C20345</td>\n",
       "      <td>2011-04-01</td>\n",
       "      <td>19:50:00</td>\n",
       "      <td>92</td>\n",
       "    </tr>\n",
       "    <tr>\n",
       "      <th>2</th>\n",
       "      <td>C20345</td>\n",
       "      <td>2012-06-29</td>\n",
       "      <td>15:11:56</td>\n",
       "      <td>95</td>\n",
       "    </tr>\n",
       "    <tr>\n",
       "      <th>3</th>\n",
       "      <td>C20345</td>\n",
       "      <td>2012-09-22</td>\n",
       "      <td>20:49:10</td>\n",
       "      <td>74</td>\n",
       "    </tr>\n",
       "    <tr>\n",
       "      <th>4</th>\n",
       "      <td>C20345</td>\n",
       "      <td>2011-08-23</td>\n",
       "      <td>11:50:26</td>\n",
       "      <td>81</td>\n",
       "    </tr>\n",
       "  </tbody>\n",
       "</table>\n",
       "</div>"
      ],
      "text/plain": [
       "  CustomerID DateOfOrder timestamp  OrderQuantity\n",
       "0     C16368  2013-08-11  15:17:52             15\n",
       "1     C20345  2011-04-01  19:50:00             92\n",
       "2     C20345  2012-06-29  15:11:56             95\n",
       "3     C20345  2012-09-22  20:49:10             74\n",
       "4     C20345  2011-08-23  11:50:26             81"
      ]
     },
     "execution_count": 39,
     "metadata": {},
     "output_type": "execute_result"
    }
   ],
   "source": [
    "transaction_df = pd.read_excel(\"./TrainData/transactionsdata_Train.xlsx\")\n",
    "transaction_df.head()"
   ]
  },
  {
   "cell_type": "code",
   "execution_count": 9,
   "metadata": {},
   "outputs": [
    {
     "name": "stdout",
     "output_type": "stream",
     "text": [
      "<class 'pandas.core.frame.DataFrame'>\n",
      "RangeIndex: 104755 entries, 0 to 104754\n",
      "Data columns (total 4 columns):\n",
      " #   Column         Non-Null Count   Dtype \n",
      "---  ------         --------------   ----- \n",
      " 0   CustomerID     104755 non-null  object\n",
      " 1   DateOfOrder    104755 non-null  object\n",
      " 2   timestamp      104755 non-null  object\n",
      " 3   OrderQuantity  104755 non-null  int64 \n",
      "dtypes: int64(1), object(3)\n",
      "memory usage: 3.2+ MB\n"
     ]
    },
    {
     "data": {
      "text/plain": [
       "(None, (104755, 4))"
      ]
     },
     "execution_count": 9,
     "metadata": {},
     "output_type": "execute_result"
    }
   ],
   "source": [
    "transaction_df.info(), transaction_df.shape"
   ]
  },
  {
   "cell_type": "code",
   "execution_count": 10,
   "metadata": {},
   "outputs": [
    {
     "data": {
      "text/plain": [
       "23820"
      ]
     },
     "execution_count": 10,
     "metadata": {},
     "output_type": "execute_result"
    }
   ],
   "source": [
    "len(cx_df.CustomerID.unique())"
   ]
  },
  {
   "cell_type": "code",
   "execution_count": 11,
   "metadata": {},
   "outputs": [
    {
     "data": {
      "text/plain": [
       "23820"
      ]
     },
     "execution_count": 11,
     "metadata": {},
     "output_type": "execute_result"
    }
   ],
   "source": [
    "len(email_data.CustomerID.unique())"
   ]
  },
  {
   "cell_type": "code",
   "execution_count": 12,
   "metadata": {},
   "outputs": [
    {
     "data": {
      "text/plain": [
       "23820"
      ]
     },
     "execution_count": 12,
     "metadata": {},
     "output_type": "execute_result"
    }
   ],
   "source": [
    "len(transaction_df.CustomerID.unique())"
   ]
  },
  {
   "cell_type": "code",
   "execution_count": null,
   "metadata": {},
   "outputs": [],
   "source": []
  },
  {
   "cell_type": "code",
   "execution_count": 13,
   "metadata": {},
   "outputs": [
    {
     "data": {
      "text/plain": [
       "0        2012-09-28\n",
       "1        2010-12-19\n",
       "2        2010-10-03\n",
       "3        2010-11-27\n",
       "4        2009-12-04\n",
       "            ...    \n",
       "517667   2018-01-18\n",
       "517668   2018-01-21\n",
       "517669   2018-01-20\n",
       "517670   2018-01-20\n",
       "517671   2018-01-21\n",
       "Name: DateOfemail, Length: 517672, dtype: datetime64[ns]"
      ]
     },
     "execution_count": 13,
     "metadata": {},
     "output_type": "execute_result"
    }
   ],
   "source": [
    "pd.to_datetime(email_data.DateOfemail, infer_datetime_format=True)"
   ]
  },
  {
   "cell_type": "code",
   "execution_count": 14,
   "metadata": {},
   "outputs": [],
   "source": [
    "email_data['DateOfEmail'] = email_data.DateOfemail + ' ' + email_data.timestamp\n",
    "dt_email = pd.to_datetime(email_data.DateOfEmail, infer_datetime_format=True)"
   ]
  },
  {
   "cell_type": "code",
   "execution_count": 15,
   "metadata": {},
   "outputs": [
    {
     "name": "stdout",
     "output_type": "stream",
     "text": [
      "<class 'pandas.core.frame.DataFrame'>\n",
      "RangeIndex: 517672 entries, 0 to 517671\n",
      "Data columns (total 7 columns):\n",
      " #   Column       Non-Null Count   Dtype         \n",
      "---  ------       --------------   -----         \n",
      " 0   CustomerID   517672 non-null  object        \n",
      " 1   DateOfemail  517672 non-null  object        \n",
      " 2   EmailType    517672 non-null  object        \n",
      " 3   timestamp    517672 non-null  object        \n",
      " 4   MailOpened   517672 non-null  object        \n",
      " 5   MailClicked  517672 non-null  object        \n",
      " 6   DateOfEmail  517672 non-null  datetime64[ns]\n",
      "dtypes: datetime64[ns](1), object(6)\n",
      "memory usage: 27.6+ MB\n"
     ]
    }
   ],
   "source": [
    "email_data['DateOfEmail'] = dt_email\n",
    "email_data.info()"
   ]
  },
  {
   "cell_type": "code",
   "execution_count": 16,
   "metadata": {},
   "outputs": [
    {
     "data": {
      "text/html": [
       "<div>\n",
       "<style scoped>\n",
       "    .dataframe tbody tr th:only-of-type {\n",
       "        vertical-align: middle;\n",
       "    }\n",
       "\n",
       "    .dataframe tbody tr th {\n",
       "        vertical-align: top;\n",
       "    }\n",
       "\n",
       "    .dataframe thead th {\n",
       "        text-align: right;\n",
       "    }\n",
       "</style>\n",
       "<table border=\"1\" class=\"dataframe\">\n",
       "  <thead>\n",
       "    <tr style=\"text-align: right;\">\n",
       "      <th></th>\n",
       "      <th>CustomerID</th>\n",
       "      <th>DateOfemail</th>\n",
       "      <th>EmailType</th>\n",
       "      <th>timestamp</th>\n",
       "      <th>MailOpened</th>\n",
       "      <th>MailClicked</th>\n",
       "      <th>DateOfEmail</th>\n",
       "    </tr>\n",
       "  </thead>\n",
       "  <tbody>\n",
       "    <tr>\n",
       "      <th>0</th>\n",
       "      <td>C16368</td>\n",
       "      <td>2012-09-28</td>\n",
       "      <td>WelcomeEmail</td>\n",
       "      <td>15:56:50</td>\n",
       "      <td>yes</td>\n",
       "      <td>NotApplicable</td>\n",
       "      <td>2012-09-28 15:56:50</td>\n",
       "    </tr>\n",
       "    <tr>\n",
       "      <th>1</th>\n",
       "      <td>C20345</td>\n",
       "      <td>2010-12-19</td>\n",
       "      <td>WelcomeEmail</td>\n",
       "      <td>15:10:30</td>\n",
       "      <td>yes</td>\n",
       "      <td>NotApplicable</td>\n",
       "      <td>2010-12-19 15:10:30</td>\n",
       "    </tr>\n",
       "    <tr>\n",
       "      <th>2</th>\n",
       "      <td>C17683</td>\n",
       "      <td>2010-10-03</td>\n",
       "      <td>WelcomeEmail</td>\n",
       "      <td>17:12:24</td>\n",
       "      <td>yes</td>\n",
       "      <td>NotApplicable</td>\n",
       "      <td>2010-10-03 17:12:24</td>\n",
       "    </tr>\n",
       "    <tr>\n",
       "      <th>3</th>\n",
       "      <td>C18647</td>\n",
       "      <td>2010-11-27</td>\n",
       "      <td>WelcomeEmail</td>\n",
       "      <td>16:59:02</td>\n",
       "      <td>yes</td>\n",
       "      <td>NotApplicable</td>\n",
       "      <td>2010-11-27 16:59:02</td>\n",
       "    </tr>\n",
       "    <tr>\n",
       "      <th>4</th>\n",
       "      <td>C36692</td>\n",
       "      <td>2009-12-04</td>\n",
       "      <td>WelcomeEmail</td>\n",
       "      <td>17:27:22</td>\n",
       "      <td>yes</td>\n",
       "      <td>NotApplicable</td>\n",
       "      <td>2009-12-04 17:27:22</td>\n",
       "    </tr>\n",
       "  </tbody>\n",
       "</table>\n",
       "</div>"
      ],
      "text/plain": [
       "  CustomerID DateOfemail     EmailType timestamp MailOpened    MailClicked  \\\n",
       "0     C16368  2012-09-28  WelcomeEmail  15:56:50        yes  NotApplicable   \n",
       "1     C20345  2010-12-19  WelcomeEmail  15:10:30        yes  NotApplicable   \n",
       "2     C17683  2010-10-03  WelcomeEmail  17:12:24        yes  NotApplicable   \n",
       "3     C18647  2010-11-27  WelcomeEmail  16:59:02        yes  NotApplicable   \n",
       "4     C36692  2009-12-04  WelcomeEmail  17:27:22        yes  NotApplicable   \n",
       "\n",
       "          DateOfEmail  \n",
       "0 2012-09-28 15:56:50  \n",
       "1 2010-12-19 15:10:30  \n",
       "2 2010-10-03 17:12:24  \n",
       "3 2010-11-27 16:59:02  \n",
       "4 2009-12-04 17:27:22  "
      ]
     },
     "execution_count": 16,
     "metadata": {},
     "output_type": "execute_result"
    }
   ],
   "source": [
    "email_data.head()"
   ]
  },
  {
   "cell_type": "code",
   "execution_count": 17,
   "metadata": {},
   "outputs": [],
   "source": [
    "email_data.drop(['DateOfemail','timestamp'],axis=1,inplace=True)"
   ]
  },
  {
   "cell_type": "code",
   "execution_count": 18,
   "metadata": {},
   "outputs": [
    {
     "data": {
      "text/html": [
       "<div>\n",
       "<style scoped>\n",
       "    .dataframe tbody tr th:only-of-type {\n",
       "        vertical-align: middle;\n",
       "    }\n",
       "\n",
       "    .dataframe tbody tr th {\n",
       "        vertical-align: top;\n",
       "    }\n",
       "\n",
       "    .dataframe thead th {\n",
       "        text-align: right;\n",
       "    }\n",
       "</style>\n",
       "<table border=\"1\" class=\"dataframe\">\n",
       "  <thead>\n",
       "    <tr style=\"text-align: right;\">\n",
       "      <th></th>\n",
       "      <th>CustomerID</th>\n",
       "      <th>EmailType</th>\n",
       "      <th>MailOpened</th>\n",
       "      <th>MailClicked</th>\n",
       "      <th>DateOfEmail</th>\n",
       "    </tr>\n",
       "  </thead>\n",
       "  <tbody>\n",
       "    <tr>\n",
       "      <th>0</th>\n",
       "      <td>C16368</td>\n",
       "      <td>WelcomeEmail</td>\n",
       "      <td>yes</td>\n",
       "      <td>NotApplicable</td>\n",
       "      <td>2012-09-28 15:56:50</td>\n",
       "    </tr>\n",
       "    <tr>\n",
       "      <th>1</th>\n",
       "      <td>C20345</td>\n",
       "      <td>WelcomeEmail</td>\n",
       "      <td>yes</td>\n",
       "      <td>NotApplicable</td>\n",
       "      <td>2010-12-19 15:10:30</td>\n",
       "    </tr>\n",
       "    <tr>\n",
       "      <th>2</th>\n",
       "      <td>C17683</td>\n",
       "      <td>WelcomeEmail</td>\n",
       "      <td>yes</td>\n",
       "      <td>NotApplicable</td>\n",
       "      <td>2010-10-03 17:12:24</td>\n",
       "    </tr>\n",
       "    <tr>\n",
       "      <th>3</th>\n",
       "      <td>C18647</td>\n",
       "      <td>WelcomeEmail</td>\n",
       "      <td>yes</td>\n",
       "      <td>NotApplicable</td>\n",
       "      <td>2010-11-27 16:59:02</td>\n",
       "    </tr>\n",
       "    <tr>\n",
       "      <th>4</th>\n",
       "      <td>C36692</td>\n",
       "      <td>WelcomeEmail</td>\n",
       "      <td>yes</td>\n",
       "      <td>NotApplicable</td>\n",
       "      <td>2009-12-04 17:27:22</td>\n",
       "    </tr>\n",
       "  </tbody>\n",
       "</table>\n",
       "</div>"
      ],
      "text/plain": [
       "  CustomerID     EmailType MailOpened    MailClicked         DateOfEmail\n",
       "0     C16368  WelcomeEmail        yes  NotApplicable 2012-09-28 15:56:50\n",
       "1     C20345  WelcomeEmail        yes  NotApplicable 2010-12-19 15:10:30\n",
       "2     C17683  WelcomeEmail        yes  NotApplicable 2010-10-03 17:12:24\n",
       "3     C18647  WelcomeEmail        yes  NotApplicable 2010-11-27 16:59:02\n",
       "4     C36692  WelcomeEmail        yes  NotApplicable 2009-12-04 17:27:22"
      ]
     },
     "execution_count": 18,
     "metadata": {},
     "output_type": "execute_result"
    }
   ],
   "source": [
    "email_data.head()"
   ]
  },
  {
   "cell_type": "code",
   "execution_count": 19,
   "metadata": {},
   "outputs": [
    {
     "data": {
      "text/html": [
       "<div>\n",
       "<style scoped>\n",
       "    .dataframe tbody tr th:only-of-type {\n",
       "        vertical-align: middle;\n",
       "    }\n",
       "\n",
       "    .dataframe tbody tr th {\n",
       "        vertical-align: top;\n",
       "    }\n",
       "\n",
       "    .dataframe thead th {\n",
       "        text-align: right;\n",
       "    }\n",
       "</style>\n",
       "<table border=\"1\" class=\"dataframe\">\n",
       "  <thead>\n",
       "    <tr style=\"text-align: right;\">\n",
       "      <th></th>\n",
       "      <th>CustomerID</th>\n",
       "      <th>DateOfOrder</th>\n",
       "      <th>timestamp</th>\n",
       "      <th>OrderQuantity</th>\n",
       "    </tr>\n",
       "  </thead>\n",
       "  <tbody>\n",
       "    <tr>\n",
       "      <th>0</th>\n",
       "      <td>C16368</td>\n",
       "      <td>2013-08-11</td>\n",
       "      <td>15:17:52</td>\n",
       "      <td>15</td>\n",
       "    </tr>\n",
       "    <tr>\n",
       "      <th>1</th>\n",
       "      <td>C20345</td>\n",
       "      <td>2011-04-01</td>\n",
       "      <td>19:50:00</td>\n",
       "      <td>92</td>\n",
       "    </tr>\n",
       "    <tr>\n",
       "      <th>2</th>\n",
       "      <td>C20345</td>\n",
       "      <td>2012-06-29</td>\n",
       "      <td>15:11:56</td>\n",
       "      <td>95</td>\n",
       "    </tr>\n",
       "    <tr>\n",
       "      <th>3</th>\n",
       "      <td>C20345</td>\n",
       "      <td>2012-09-22</td>\n",
       "      <td>20:49:10</td>\n",
       "      <td>74</td>\n",
       "    </tr>\n",
       "    <tr>\n",
       "      <th>4</th>\n",
       "      <td>C20345</td>\n",
       "      <td>2011-08-23</td>\n",
       "      <td>11:50:26</td>\n",
       "      <td>81</td>\n",
       "    </tr>\n",
       "  </tbody>\n",
       "</table>\n",
       "</div>"
      ],
      "text/plain": [
       "  CustomerID DateOfOrder timestamp  OrderQuantity\n",
       "0     C16368  2013-08-11  15:17:52             15\n",
       "1     C20345  2011-04-01  19:50:00             92\n",
       "2     C20345  2012-06-29  15:11:56             95\n",
       "3     C20345  2012-09-22  20:49:10             74\n",
       "4     C20345  2011-08-23  11:50:26             81"
      ]
     },
     "execution_count": 19,
     "metadata": {},
     "output_type": "execute_result"
    }
   ],
   "source": [
    "transaction_df.head()"
   ]
  },
  {
   "cell_type": "code",
   "execution_count": 40,
   "metadata": {},
   "outputs": [],
   "source": [
    "transaction_df['DateOfOrders'] = transaction_df.DateOfOrder + \" \" + transaction_df.timestamp\n",
    "dt_trasac = pd.to_datetime(transaction_df.DateOfOrders, infer_datetime_format=True)"
   ]
  },
  {
   "cell_type": "code",
   "execution_count": 41,
   "metadata": {},
   "outputs": [],
   "source": [
    "transaction_df['DateOfOrders'] = dt_trasac"
   ]
  },
  {
   "cell_type": "code",
   "execution_count": 42,
   "metadata": {},
   "outputs": [],
   "source": [
    "transaction_df.drop(['DateOfOrder','timestamp'],axis = 1, inplace=True)"
   ]
  },
  {
   "cell_type": "code",
   "execution_count": 33,
   "metadata": {},
   "outputs": [
    {
     "data": {
      "text/html": [
       "<div>\n",
       "<style scoped>\n",
       "    .dataframe tbody tr th:only-of-type {\n",
       "        vertical-align: middle;\n",
       "    }\n",
       "\n",
       "    .dataframe tbody tr th {\n",
       "        vertical-align: top;\n",
       "    }\n",
       "\n",
       "    .dataframe thead th {\n",
       "        text-align: right;\n",
       "    }\n",
       "</style>\n",
       "<table border=\"1\" class=\"dataframe\">\n",
       "  <thead>\n",
       "    <tr style=\"text-align: right;\">\n",
       "      <th></th>\n",
       "      <th>CustomerID</th>\n",
       "      <th>OrderQuantity</th>\n",
       "      <th>DateOfOrders</th>\n",
       "    </tr>\n",
       "  </thead>\n",
       "  <tbody>\n",
       "    <tr>\n",
       "      <th>0</th>\n",
       "      <td>C16368</td>\n",
       "      <td>15</td>\n",
       "      <td>2013-08-11 15:17:52</td>\n",
       "    </tr>\n",
       "    <tr>\n",
       "      <th>1</th>\n",
       "      <td>C20345</td>\n",
       "      <td>92</td>\n",
       "      <td>2011-04-01 19:50:00</td>\n",
       "    </tr>\n",
       "    <tr>\n",
       "      <th>2</th>\n",
       "      <td>C20345</td>\n",
       "      <td>95</td>\n",
       "      <td>2012-06-29 15:11:56</td>\n",
       "    </tr>\n",
       "    <tr>\n",
       "      <th>3</th>\n",
       "      <td>C20345</td>\n",
       "      <td>74</td>\n",
       "      <td>2012-09-22 20:49:10</td>\n",
       "    </tr>\n",
       "    <tr>\n",
       "      <th>4</th>\n",
       "      <td>C20345</td>\n",
       "      <td>81</td>\n",
       "      <td>2011-08-23 11:50:26</td>\n",
       "    </tr>\n",
       "  </tbody>\n",
       "</table>\n",
       "</div>"
      ],
      "text/plain": [
       "  CustomerID  OrderQuantity        DateOfOrders\n",
       "0     C16368             15 2013-08-11 15:17:52\n",
       "1     C20345             92 2011-04-01 19:50:00\n",
       "2     C20345             95 2012-06-29 15:11:56\n",
       "3     C20345             74 2012-09-22 20:49:10\n",
       "4     C20345             81 2011-08-23 11:50:26"
      ]
     },
     "execution_count": 33,
     "metadata": {},
     "output_type": "execute_result"
    }
   ],
   "source": [
    "transaction_df.head()"
   ]
  },
  {
   "cell_type": "code",
   "execution_count": 24,
   "metadata": {},
   "outputs": [
    {
     "data": {
      "text/plain": [
       "no               466011\n",
       "yes               27841\n",
       "NotApplicable     23820\n",
       "Name: MailClicked, dtype: int64"
      ]
     },
     "execution_count": 24,
     "metadata": {},
     "output_type": "execute_result"
    }
   ],
   "source": [
    "email_data.MailClicked.value_counts()"
   ]
  },
  {
   "cell_type": "code",
   "execution_count": 25,
   "metadata": {},
   "outputs": [
    {
     "data": {
      "text/html": [
       "<div>\n",
       "<style scoped>\n",
       "    .dataframe tbody tr th:only-of-type {\n",
       "        vertical-align: middle;\n",
       "    }\n",
       "\n",
       "    .dataframe tbody tr th {\n",
       "        vertical-align: top;\n",
       "    }\n",
       "\n",
       "    .dataframe thead th {\n",
       "        text-align: right;\n",
       "    }\n",
       "</style>\n",
       "<table border=\"1\" class=\"dataframe\">\n",
       "  <thead>\n",
       "    <tr style=\"text-align: right;\">\n",
       "      <th></th>\n",
       "      <th>EmailType</th>\n",
       "      <th>MailOpened</th>\n",
       "      <th>MailClicked</th>\n",
       "    </tr>\n",
       "    <tr>\n",
       "      <th>CustomerID</th>\n",
       "      <th></th>\n",
       "      <th></th>\n",
       "      <th></th>\n",
       "    </tr>\n",
       "  </thead>\n",
       "  <tbody>\n",
       "    <tr>\n",
       "      <th>C12116</th>\n",
       "      <td>CustomizedEmail</td>\n",
       "      <td>no</td>\n",
       "      <td>no</td>\n",
       "    </tr>\n",
       "    <tr>\n",
       "      <th>C12117</th>\n",
       "      <td>WelcomeEmail</td>\n",
       "      <td>yes</td>\n",
       "      <td>NotApplicable</td>\n",
       "    </tr>\n",
       "    <tr>\n",
       "      <th>C12118</th>\n",
       "      <td>WelcomeEmail</td>\n",
       "      <td>yes</td>\n",
       "      <td>NotApplicable</td>\n",
       "    </tr>\n",
       "    <tr>\n",
       "      <th>C12119</th>\n",
       "      <td>CustomizedEmail</td>\n",
       "      <td>no</td>\n",
       "      <td>no</td>\n",
       "    </tr>\n",
       "    <tr>\n",
       "      <th>C12120</th>\n",
       "      <td>WelcomeEmail</td>\n",
       "      <td>yes</td>\n",
       "      <td>NotApplicable</td>\n",
       "    </tr>\n",
       "    <tr>\n",
       "      <th>...</th>\n",
       "      <td>...</td>\n",
       "      <td>...</td>\n",
       "      <td>...</td>\n",
       "    </tr>\n",
       "    <tr>\n",
       "      <th>C42185</th>\n",
       "      <td>CustomizedEmail</td>\n",
       "      <td>no</td>\n",
       "      <td>no</td>\n",
       "    </tr>\n",
       "    <tr>\n",
       "      <th>C42186</th>\n",
       "      <td>WelcomeEmail</td>\n",
       "      <td>yes</td>\n",
       "      <td>NotApplicable</td>\n",
       "    </tr>\n",
       "    <tr>\n",
       "      <th>C42187</th>\n",
       "      <td>WelcomeEmail</td>\n",
       "      <td>yes</td>\n",
       "      <td>NotApplicable</td>\n",
       "    </tr>\n",
       "    <tr>\n",
       "      <th>C42188</th>\n",
       "      <td>WelcomeEmail</td>\n",
       "      <td>yes</td>\n",
       "      <td>NotApplicable</td>\n",
       "    </tr>\n",
       "    <tr>\n",
       "      <th>C42189</th>\n",
       "      <td>CustomizedEmail</td>\n",
       "      <td>no</td>\n",
       "      <td>no</td>\n",
       "    </tr>\n",
       "  </tbody>\n",
       "</table>\n",
       "<p>23820 rows × 3 columns</p>\n",
       "</div>"
      ],
      "text/plain": [
       "                  EmailType MailOpened    MailClicked\n",
       "CustomerID                                           \n",
       "C12116      CustomizedEmail         no             no\n",
       "C12117         WelcomeEmail        yes  NotApplicable\n",
       "C12118         WelcomeEmail        yes  NotApplicable\n",
       "C12119      CustomizedEmail         no             no\n",
       "C12120         WelcomeEmail        yes  NotApplicable\n",
       "...                     ...        ...            ...\n",
       "C42185      CustomizedEmail         no             no\n",
       "C42186         WelcomeEmail        yes  NotApplicable\n",
       "C42187         WelcomeEmail        yes  NotApplicable\n",
       "C42188         WelcomeEmail        yes  NotApplicable\n",
       "C42189      CustomizedEmail         no             no\n",
       "\n",
       "[23820 rows x 3 columns]"
      ]
     },
     "execution_count": 25,
     "metadata": {},
     "output_type": "execute_result"
    }
   ],
   "source": [
    "email_data.groupby(by='CustomerID').agg({'EmailType': pd.Series.mode,'MailOpened': pd.Series.mode,'MailClicked': pd.Series.mode})"
   ]
  },
  {
   "cell_type": "code",
   "execution_count": 26,
   "metadata": {},
   "outputs": [
    {
     "data": {
      "text/plain": [
       "CustomizedEmail    493852\n",
       "WelcomeEmail        23820\n",
       "Name: EmailType, dtype: int64"
      ]
     },
     "execution_count": 26,
     "metadata": {},
     "output_type": "execute_result"
    }
   ],
   "source": [
    "email_data['EmailType'].value_counts()"
   ]
  },
  {
   "cell_type": "code",
   "execution_count": 34,
   "metadata": {},
   "outputs": [
    {
     "data": {
      "text/html": [
       "<div>\n",
       "<style scoped>\n",
       "    .dataframe tbody tr th:only-of-type {\n",
       "        vertical-align: middle;\n",
       "    }\n",
       "\n",
       "    .dataframe tbody tr th {\n",
       "        vertical-align: top;\n",
       "    }\n",
       "\n",
       "    .dataframe thead th {\n",
       "        text-align: right;\n",
       "    }\n",
       "</style>\n",
       "<table border=\"1\" class=\"dataframe\">\n",
       "  <thead>\n",
       "    <tr style=\"text-align: right;\">\n",
       "      <th></th>\n",
       "      <th>CustomerID</th>\n",
       "      <th>OrderQuantity</th>\n",
       "      <th>DateOfOrders</th>\n",
       "    </tr>\n",
       "  </thead>\n",
       "  <tbody>\n",
       "    <tr>\n",
       "      <th>0</th>\n",
       "      <td>C16368</td>\n",
       "      <td>15</td>\n",
       "      <td>2013-08-11 15:17:52</td>\n",
       "    </tr>\n",
       "    <tr>\n",
       "      <th>1</th>\n",
       "      <td>C20345</td>\n",
       "      <td>92</td>\n",
       "      <td>2011-04-01 19:50:00</td>\n",
       "    </tr>\n",
       "    <tr>\n",
       "      <th>2</th>\n",
       "      <td>C20345</td>\n",
       "      <td>95</td>\n",
       "      <td>2012-06-29 15:11:56</td>\n",
       "    </tr>\n",
       "    <tr>\n",
       "      <th>3</th>\n",
       "      <td>C20345</td>\n",
       "      <td>74</td>\n",
       "      <td>2012-09-22 20:49:10</td>\n",
       "    </tr>\n",
       "    <tr>\n",
       "      <th>4</th>\n",
       "      <td>C20345</td>\n",
       "      <td>81</td>\n",
       "      <td>2011-08-23 11:50:26</td>\n",
       "    </tr>\n",
       "  </tbody>\n",
       "</table>\n",
       "</div>"
      ],
      "text/plain": [
       "  CustomerID  OrderQuantity        DateOfOrders\n",
       "0     C16368             15 2013-08-11 15:17:52\n",
       "1     C20345             92 2011-04-01 19:50:00\n",
       "2     C20345             95 2012-06-29 15:11:56\n",
       "3     C20345             74 2012-09-22 20:49:10\n",
       "4     C20345             81 2011-08-23 11:50:26"
      ]
     },
     "execution_count": 34,
     "metadata": {},
     "output_type": "execute_result"
    }
   ],
   "source": [
    "transaction_df.head()"
   ]
  },
  {
   "cell_type": "code",
   "execution_count": 43,
   "metadata": {},
   "outputs": [],
   "source": [
    "transaction_df['Day_of_week'] = transaction_df['DateOfOrders'].dt.day()"
   ]
  },
  {
   "cell_type": "code",
   "execution_count": 44,
   "metadata": {},
   "outputs": [
    {
     "data": {
      "text/html": [
       "<div>\n",
       "<style scoped>\n",
       "    .dataframe tbody tr th:only-of-type {\n",
       "        vertical-align: middle;\n",
       "    }\n",
       "\n",
       "    .dataframe tbody tr th {\n",
       "        vertical-align: top;\n",
       "    }\n",
       "\n",
       "    .dataframe thead th {\n",
       "        text-align: right;\n",
       "    }\n",
       "</style>\n",
       "<table border=\"1\" class=\"dataframe\">\n",
       "  <thead>\n",
       "    <tr style=\"text-align: right;\">\n",
       "      <th></th>\n",
       "      <th>CustomerID</th>\n",
       "      <th>OrderQuantity</th>\n",
       "      <th>DateOfOrders</th>\n",
       "      <th>Day_of_week</th>\n",
       "    </tr>\n",
       "  </thead>\n",
       "  <tbody>\n",
       "    <tr>\n",
       "      <th>0</th>\n",
       "      <td>C16368</td>\n",
       "      <td>15</td>\n",
       "      <td>2013-08-11 15:17:52</td>\n",
       "      <td>Sunday</td>\n",
       "    </tr>\n",
       "    <tr>\n",
       "      <th>1</th>\n",
       "      <td>C20345</td>\n",
       "      <td>92</td>\n",
       "      <td>2011-04-01 19:50:00</td>\n",
       "      <td>Friday</td>\n",
       "    </tr>\n",
       "    <tr>\n",
       "      <th>2</th>\n",
       "      <td>C20345</td>\n",
       "      <td>95</td>\n",
       "      <td>2012-06-29 15:11:56</td>\n",
       "      <td>Friday</td>\n",
       "    </tr>\n",
       "    <tr>\n",
       "      <th>3</th>\n",
       "      <td>C20345</td>\n",
       "      <td>74</td>\n",
       "      <td>2012-09-22 20:49:10</td>\n",
       "      <td>Saturday</td>\n",
       "    </tr>\n",
       "    <tr>\n",
       "      <th>4</th>\n",
       "      <td>C20345</td>\n",
       "      <td>81</td>\n",
       "      <td>2011-08-23 11:50:26</td>\n",
       "      <td>Tuesday</td>\n",
       "    </tr>\n",
       "  </tbody>\n",
       "</table>\n",
       "</div>"
      ],
      "text/plain": [
       "  CustomerID  OrderQuantity        DateOfOrders Day_of_week\n",
       "0     C16368             15 2013-08-11 15:17:52      Sunday\n",
       "1     C20345             92 2011-04-01 19:50:00      Friday\n",
       "2     C20345             95 2012-06-29 15:11:56      Friday\n",
       "3     C20345             74 2012-09-22 20:49:10    Saturday\n",
       "4     C20345             81 2011-08-23 11:50:26     Tuesday"
      ]
     },
     "execution_count": 44,
     "metadata": {},
     "output_type": "execute_result"
    }
   ],
   "source": [
    "transaction_df.head()"
   ]
  },
  {
   "cell_type": "code",
   "execution_count": null,
   "metadata": {},
   "outputs": [],
   "source": []
  }
 ],
 "metadata": {
  "kernelspec": {
   "display_name": "Python 3",
   "language": "python",
   "name": "python3"
  },
  "language_info": {
   "codemirror_mode": {
    "name": "ipython",
    "version": 3
   },
   "file_extension": ".py",
   "mimetype": "text/x-python",
   "name": "python",
   "nbconvert_exporter": "python",
   "pygments_lexer": "ipython3",
   "version": "3.8.5"
  }
 },
 "nbformat": 4,
 "nbformat_minor": 5
}
